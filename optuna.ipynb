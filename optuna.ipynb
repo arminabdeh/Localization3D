{
  "nbformat": 4,
  "nbformat_minor": 0,
  "metadata": {
    "colab": {
      "provenance": [],
      "gpuType": "T4",
      "authorship_tag": "ABX9TyNBeK9uNbgjoZQbjq1eEhvq",
      "include_colab_link": true
    },
    "kernelspec": {
      "name": "python3",
      "display_name": "Python 3"
    },
    "language_info": {
      "name": "python"
    },
    "accelerator": "GPU",
    "widgets": {
      "application/vnd.jupyter.widget-state+json": {
        "18c9eb76567a4abea02d39433208690d": {
          "model_module": "@jupyter-widgets/controls",
          "model_name": "HBoxModel",
          "model_module_version": "1.5.0",
          "state": {
            "_dom_classes": [],
            "_model_module": "@jupyter-widgets/controls",
            "_model_module_version": "1.5.0",
            "_model_name": "HBoxModel",
            "_view_count": null,
            "_view_module": "@jupyter-widgets/controls",
            "_view_module_version": "1.5.0",
            "_view_name": "HBoxView",
            "box_style": "",
            "children": [
              "IPY_MODEL_fdeb8b21df0a4324b5ccfbd8143d441f",
              "IPY_MODEL_51f379efde9245099d12d319e4b8ea7a",
              "IPY_MODEL_53302ebb20044f8f8bd7ec7b7195d513"
            ],
            "layout": "IPY_MODEL_b8bb0c2f265f44859b706875eb82c246"
          }
        },
        "fdeb8b21df0a4324b5ccfbd8143d441f": {
          "model_module": "@jupyter-widgets/controls",
          "model_name": "HTMLModel",
          "model_module_version": "1.5.0",
          "state": {
            "_dom_classes": [],
            "_model_module": "@jupyter-widgets/controls",
            "_model_module_version": "1.5.0",
            "_model_name": "HTMLModel",
            "_view_count": null,
            "_view_module": "@jupyter-widgets/controls",
            "_view_module_version": "1.5.0",
            "_view_name": "HTMLView",
            "description": "",
            "description_tooltip": null,
            "layout": "IPY_MODEL_f2bf662a8ebf41fc926505689d64a0bb",
            "placeholder": "​",
            "style": "IPY_MODEL_6d984d1d05334698b234cc616629cd80",
            "value": "Processing: 100%"
          }
        },
        "51f379efde9245099d12d319e4b8ea7a": {
          "model_module": "@jupyter-widgets/controls",
          "model_name": "FloatProgressModel",
          "model_module_version": "1.5.0",
          "state": {
            "_dom_classes": [],
            "_model_module": "@jupyter-widgets/controls",
            "_model_module_version": "1.5.0",
            "_model_name": "FloatProgressModel",
            "_view_count": null,
            "_view_module": "@jupyter-widgets/controls",
            "_view_module_version": "1.5.0",
            "_view_name": "ProgressView",
            "bar_style": "",
            "description": "",
            "description_tooltip": null,
            "layout": "IPY_MODEL_19f73194caf34d23b7eb3a8f4315eb11",
            "max": 100,
            "min": 0,
            "orientation": "horizontal",
            "style": "IPY_MODEL_f22e0e07b82f49c1916952eb9df67892",
            "value": 100
          }
        },
        "53302ebb20044f8f8bd7ec7b7195d513": {
          "model_module": "@jupyter-widgets/controls",
          "model_name": "HTMLModel",
          "model_module_version": "1.5.0",
          "state": {
            "_dom_classes": [],
            "_model_module": "@jupyter-widgets/controls",
            "_model_module_version": "1.5.0",
            "_model_name": "HTMLModel",
            "_view_count": null,
            "_view_module": "@jupyter-widgets/controls",
            "_view_module_version": "1.5.0",
            "_view_name": "HTMLView",
            "description": "",
            "description_tooltip": null,
            "layout": "IPY_MODEL_45cf0550ca604ae596b7f283a076fe71",
            "placeholder": "​",
            "style": "IPY_MODEL_8f92fbeda11d4e41bb30b10589a10d92",
            "value": " 100/100 [01:15&lt;00:00,  1.37 iterations/s]"
          }
        },
        "b8bb0c2f265f44859b706875eb82c246": {
          "model_module": "@jupyter-widgets/base",
          "model_name": "LayoutModel",
          "model_module_version": "1.2.0",
          "state": {
            "_model_module": "@jupyter-widgets/base",
            "_model_module_version": "1.2.0",
            "_model_name": "LayoutModel",
            "_view_count": null,
            "_view_module": "@jupyter-widgets/base",
            "_view_module_version": "1.2.0",
            "_view_name": "LayoutView",
            "align_content": null,
            "align_items": null,
            "align_self": null,
            "border": null,
            "bottom": null,
            "display": null,
            "flex": null,
            "flex_flow": null,
            "grid_area": null,
            "grid_auto_columns": null,
            "grid_auto_flow": null,
            "grid_auto_rows": null,
            "grid_column": null,
            "grid_gap": null,
            "grid_row": null,
            "grid_template_areas": null,
            "grid_template_columns": null,
            "grid_template_rows": null,
            "height": null,
            "justify_content": null,
            "justify_items": null,
            "left": null,
            "margin": null,
            "max_height": null,
            "max_width": null,
            "min_height": null,
            "min_width": null,
            "object_fit": null,
            "object_position": null,
            "order": null,
            "overflow": null,
            "overflow_x": null,
            "overflow_y": null,
            "padding": null,
            "right": null,
            "top": null,
            "visibility": null,
            "width": null
          }
        },
        "f2bf662a8ebf41fc926505689d64a0bb": {
          "model_module": "@jupyter-widgets/base",
          "model_name": "LayoutModel",
          "model_module_version": "1.2.0",
          "state": {
            "_model_module": "@jupyter-widgets/base",
            "_model_module_version": "1.2.0",
            "_model_name": "LayoutModel",
            "_view_count": null,
            "_view_module": "@jupyter-widgets/base",
            "_view_module_version": "1.2.0",
            "_view_name": "LayoutView",
            "align_content": null,
            "align_items": null,
            "align_self": null,
            "border": null,
            "bottom": null,
            "display": null,
            "flex": null,
            "flex_flow": null,
            "grid_area": null,
            "grid_auto_columns": null,
            "grid_auto_flow": null,
            "grid_auto_rows": null,
            "grid_column": null,
            "grid_gap": null,
            "grid_row": null,
            "grid_template_areas": null,
            "grid_template_columns": null,
            "grid_template_rows": null,
            "height": null,
            "justify_content": null,
            "justify_items": null,
            "left": null,
            "margin": null,
            "max_height": null,
            "max_width": null,
            "min_height": null,
            "min_width": null,
            "object_fit": null,
            "object_position": null,
            "order": null,
            "overflow": null,
            "overflow_x": null,
            "overflow_y": null,
            "padding": null,
            "right": null,
            "top": null,
            "visibility": null,
            "width": null
          }
        },
        "6d984d1d05334698b234cc616629cd80": {
          "model_module": "@jupyter-widgets/controls",
          "model_name": "DescriptionStyleModel",
          "model_module_version": "1.5.0",
          "state": {
            "_model_module": "@jupyter-widgets/controls",
            "_model_module_version": "1.5.0",
            "_model_name": "DescriptionStyleModel",
            "_view_count": null,
            "_view_module": "@jupyter-widgets/base",
            "_view_module_version": "1.2.0",
            "_view_name": "StyleView",
            "description_width": ""
          }
        },
        "19f73194caf34d23b7eb3a8f4315eb11": {
          "model_module": "@jupyter-widgets/base",
          "model_name": "LayoutModel",
          "model_module_version": "1.2.0",
          "state": {
            "_model_module": "@jupyter-widgets/base",
            "_model_module_version": "1.2.0",
            "_model_name": "LayoutModel",
            "_view_count": null,
            "_view_module": "@jupyter-widgets/base",
            "_view_module_version": "1.2.0",
            "_view_name": "LayoutView",
            "align_content": null,
            "align_items": null,
            "align_self": null,
            "border": null,
            "bottom": null,
            "display": null,
            "flex": null,
            "flex_flow": null,
            "grid_area": null,
            "grid_auto_columns": null,
            "grid_auto_flow": null,
            "grid_auto_rows": null,
            "grid_column": null,
            "grid_gap": null,
            "grid_row": null,
            "grid_template_areas": null,
            "grid_template_columns": null,
            "grid_template_rows": null,
            "height": null,
            "justify_content": null,
            "justify_items": null,
            "left": null,
            "margin": null,
            "max_height": null,
            "max_width": null,
            "min_height": null,
            "min_width": null,
            "object_fit": null,
            "object_position": null,
            "order": null,
            "overflow": null,
            "overflow_x": null,
            "overflow_y": null,
            "padding": null,
            "right": null,
            "top": null,
            "visibility": null,
            "width": null
          }
        },
        "f22e0e07b82f49c1916952eb9df67892": {
          "model_module": "@jupyter-widgets/controls",
          "model_name": "ProgressStyleModel",
          "model_module_version": "1.5.0",
          "state": {
            "_model_module": "@jupyter-widgets/controls",
            "_model_module_version": "1.5.0",
            "_model_name": "ProgressStyleModel",
            "_view_count": null,
            "_view_module": "@jupyter-widgets/base",
            "_view_module_version": "1.2.0",
            "_view_name": "StyleView",
            "bar_color": null,
            "description_width": ""
          }
        },
        "45cf0550ca604ae596b7f283a076fe71": {
          "model_module": "@jupyter-widgets/base",
          "model_name": "LayoutModel",
          "model_module_version": "1.2.0",
          "state": {
            "_model_module": "@jupyter-widgets/base",
            "_model_module_version": "1.2.0",
            "_model_name": "LayoutModel",
            "_view_count": null,
            "_view_module": "@jupyter-widgets/base",
            "_view_module_version": "1.2.0",
            "_view_name": "LayoutView",
            "align_content": null,
            "align_items": null,
            "align_self": null,
            "border": null,
            "bottom": null,
            "display": null,
            "flex": null,
            "flex_flow": null,
            "grid_area": null,
            "grid_auto_columns": null,
            "grid_auto_flow": null,
            "grid_auto_rows": null,
            "grid_column": null,
            "grid_gap": null,
            "grid_row": null,
            "grid_template_areas": null,
            "grid_template_columns": null,
            "grid_template_rows": null,
            "height": null,
            "justify_content": null,
            "justify_items": null,
            "left": null,
            "margin": null,
            "max_height": null,
            "max_width": null,
            "min_height": null,
            "min_width": null,
            "object_fit": null,
            "object_position": null,
            "order": null,
            "overflow": null,
            "overflow_x": null,
            "overflow_y": null,
            "padding": null,
            "right": null,
            "top": null,
            "visibility": null,
            "width": null
          }
        },
        "8f92fbeda11d4e41bb30b10589a10d92": {
          "model_module": "@jupyter-widgets/controls",
          "model_name": "DescriptionStyleModel",
          "model_module_version": "1.5.0",
          "state": {
            "_model_module": "@jupyter-widgets/controls",
            "_model_module_version": "1.5.0",
            "_model_name": "DescriptionStyleModel",
            "_view_count": null,
            "_view_module": "@jupyter-widgets/base",
            "_view_module_version": "1.2.0",
            "_view_name": "StyleView",
            "description_width": ""
          }
        }
      }
    }
  },
  "cells": [
    {
      "cell_type": "markdown",
      "metadata": {
        "id": "view-in-github",
        "colab_type": "text"
      },
      "source": [
        "<a href=\"https://colab.research.google.com/github/arminabdeh/Localization3D/blob/smlm/optuna.ipynb\" target=\"_parent\"><img src=\"https://colab.research.google.com/assets/colab-badge.svg\" alt=\"Open In Colab\"/></a>"
      ]
    },
    {
      "cell_type": "code",
      "source": [
        "# @markdown **Step 0** Prepare Colab instance (~5 mins)\n",
        "# @markdown  1. install __luenn__ package\n",
        "# @markdown  2. install __decode__ package\n",
        "# @markdown  3. install __torchvision__\n",
        "# @markdown  4. install __torch 1.12.0__\n",
        "# @markdown  5. install __optuna__ and __optuna-dashboard__\n",
        "# @markdown  3. install __torachtext__ and __torchaudio__\n",
        "\n",
        "%%capture\n",
        "!pip install Optuna\n",
        "!pip install Optuna-dashboard\n",
        "!pip uninstall -y torch torchvision torchaudio torchtext\n",
        "!pip install torch==1.12.0\n",
        "import torch\n",
        "import yaml\n",
        "!rm -r sample_data/*\n",
        "!wget -c https://raw.githubusercontent.com/arminabdeh/Localization3D/smlm/gateway.yaml\n",
        "with open('gateway.yaml') as f:\n",
        "  gateway = yaml.safe_load(f)\n",
        "\n",
        "\n",
        "wheel_spline = gateway['wheels']['spline_py310']\n",
        "wheel_spline_name = \"spline-0.11.1.dev0-cp310-cp310-linux_x86_64.whl\"\n",
        "!wget -O $wheel_spline_name $wheel_spline\n",
        "!pip install $wheel_spline_name\n",
        "\n",
        "wheel_decode = gateway['wheels']['decode']\n",
        "!pip install $wheel_decode\n",
        "\n",
        "wheel_luenn =  gateway['wheels']['luenn']\n",
        "!pip install $wheel_luenn"
      ],
      "metadata": {
        "id": "HhjujPaTUdO3"
      },
      "execution_count": 1,
      "outputs": []
    },
    {
      "cell_type": "code",
      "source": [
        "#@markdown **Step 3** Mount Google Drive\n",
        "#@markdown\n",
        "#@markdown Execute this cell to connect your Google Drive\n",
        "#@markdown This is important to save your trained model. An alternative would be to download it manually, this is however not recommended.\n",
        "\n",
        "\n",
        "#@markdown * Click on the URL.\n",
        "\n",
        "#@markdown * Sign in your Google Account.\n",
        "\n",
        "#@markdown * Copy the authorization code.\n",
        "\n",
        "#@markdown * Enter the authorization code.\n",
        "\n",
        "#@markdown * Click on \"Files\" site on the right. Refresh the site. Your Google Drive folder should now be available here as \"drive\".\n",
        "\n",
        "#@markdown Your Google Drive is accessible in Colab as `gdrive/My Drive/[YOUR Folder / File]`. **Important** It might take a while until files are being synced (particularly large files).\n",
        "# mount user's Google Drive to Google Colab.\n",
        "from google.colab import drive\n",
        "drive.mount('/content/gdrive')"
      ],
      "metadata": {
        "colab": {
          "base_uri": "https://localhost:8080/"
        },
        "id": "U1-Yi_UvZMGb",
        "outputId": "638e2811-1d5a-4c22-8096-53a78cdf433e"
      },
      "execution_count": 2,
      "outputs": [
        {
          "output_type": "stream",
          "name": "stdout",
          "text": [
            "Mounted at /content/gdrive\n"
          ]
        }
      ]
    },
    {
      "cell_type": "code",
      "source": [
        "from luenn.model import UNet\n",
        "import decode.utils.param_io as param_io\n",
        "from luenn.generic import fly_simulator\n",
        "from torch.utils.data import Dataset, TensorDataset,DataLoader\n",
        "import optuna\n",
        "from tqdm import tqdm\n",
        "from tqdm.notebook import tqdm"
      ],
      "metadata": {
        "id": "bJQ6IB9eaKPP"
      },
      "execution_count": 15,
      "outputs": []
    },
    {
      "cell_type": "code",
      "source": [
        "# @title Default title text\n",
        "#@markdown > Set main parameters:\n",
        "epochs = 100 # @param {type:\"integer\"}\n",
        "training_size = 10 # @param {type:\"integer\"}\n",
        "test_size = 10 # @param {type:\"integer\"}\n",
        "#@markdown >> Set trail range of learning rate\n",
        "lr_lim_down = 1e-5 # @param {type:\"raw\"}\n",
        "lr_lim_up = 1e-3 # @param {type:\"raw\"}\n",
        "#@markdown >> Set trail range of batch size\n",
        "batch_size_min = 16 # @param {type:\"integer\"}\n",
        "batch_size_max = 32 # @param {type:\"integer\"}\n",
        "\n",
        "param_path = \"/content/gdrive/MyDrive/optuna/param/param.yaml\"\n",
        "param = param_io.load_params(param_path)\n",
        "calib_path = \"/content/gdrive/MyDrive/optuna/calib/spline_calibration_3d_as_3dcal.mat\"\n",
        "param.InOut.calibration_file = calib_path\n",
        "param.HyperParameter.pseudo_ds_size = training_size\n",
        "param.TestSet.test_size = test_size\n",
        "simulator = fly_simulator(param,report=False)\n",
        "\n",
        "\n",
        "def objective(trial):\n",
        "  model = UNet()\n",
        "  model.to('cuda')\n",
        "  #trials\n",
        "  # optimizer_name = trial.suggest_categorical(\"optimizer\", [\"Adam\", \"AdamW\", \"RMSprop\", \"SGD\"])\n",
        "  optimizer_name = 'Adam'\n",
        "  lr = trial.suggest_float(\"lr\", lr_lim_down, lr_lim_up, log=True)\n",
        "  optimizer = getattr(torch.optim, optimizer_name)(model.parameters(), lr=lr)\n",
        "  step = trial.suggest_int(\"step\", 1, 20, log=True)\n",
        "  # step = 10\n",
        "  gamma = trial.suggest_float(\"gamma\", 0.1, 1, log=True)\n",
        "  # gamma = .5\n",
        "  batch_size = trial.suggest_int(\"batch_size\", batch_size_min, batch_size_max, log=True)\n",
        "\n",
        "  #training\n",
        "  model.train()\n",
        "\n",
        "\n",
        "  criterion = torch.nn.MSELoss()\n",
        "  lr_scheduler = torch.optim.lr_scheduler.StepLR(optimizer, step_size=step, gamma=gamma)\n",
        "\n",
        "  tqdm_enum_train = tqdm(total=epochs, desc=\"Processing\", unit=\" iterations\")\n",
        "\n",
        "  for epoch in range(epochs):\n",
        "    x_test, y_test, gt_test = simulator.ds_test()\n",
        "    dataset_test = torch.utils.data.TensorDataset(x_test, y_test)\n",
        "    dataloader_test  = DataLoader(dataset_test, batch_size=32,num_workers=0, shuffle=False, pin_memory=False)\n",
        "    x_train, y_train, gt_train = simulator.ds_train()\n",
        "    dataset_train = torch.utils.data.TensorDataset(x_train, y_train)\n",
        "    dataloader_train  = DataLoader(dataset_train, batch_size=batch_size,num_workers=0,shuffle=False, pin_memory=False)\n",
        "    tr_loss = 0\n",
        "    steps_train = len(dataloader_train)\n",
        "    steps_test = len(dataloader_test)\n",
        "    # tqdm_enum_test = tqdm(total=steps_test, desc=\"Processing\", unit=\" iterations\")\n",
        "    for data in dataloader_train:\n",
        "      inputs, labels = data\n",
        "      inputs = inputs.cuda()\n",
        "      labels = labels.cuda()\n",
        "      optimizer.zero_grad()\n",
        "      outputs = model(inputs)\n",
        "      loss = criterion(outputs, labels)\n",
        "      tr_loss += loss\n",
        "      loss.backward()\n",
        "      optimizer.step()\n",
        "      inputs.cpu()\n",
        "      labels.cpu()\n",
        "      torch.cuda.empty_cache()\n",
        "    tqdm_enum_train.update(1)\n",
        "    # tqdm_enum_train.close()\n",
        "    lr_scheduler.step()\n",
        "    # validation\n",
        "    val_loss = 0\n",
        "    model.eval()\n",
        "    with torch.no_grad():\n",
        "      for data in dataloader_test:\n",
        "        inputs, labels = data\n",
        "        outputs = model(inputs.cuda())\n",
        "        loss = criterion(outputs, labels.cuda())\n",
        "        val_loss += loss.item()\n",
        "        inputs.cpu()\n",
        "        labels.cpu()\n",
        "        torch.cuda.empty_cache()\n",
        "        # tqdm_enum_test.update(1)\n",
        "  # trial.report(val_loss,epoch)\n",
        "  # tqdm_enum_test.close()\n",
        "  val_loss = val_loss / steps_test\n",
        "  if trial.should_prune():\n",
        "    raise optuna.exceptions.TrialPruned()\n",
        "  return val_loss\n"
      ],
      "metadata": {
        "id": "HmF3l8x2ahX0"
      },
      "execution_count": 77,
      "outputs": []
    },
    {
      "cell_type": "code",
      "source": [
        "study = optuna.create_study(direction=\"minimize\")\n",
        "study.optimize(objective,n_trials=200, timeout=60)"
      ],
      "metadata": {
        "colab": {
          "base_uri": "https://localhost:8080/",
          "height": 104,
          "referenced_widgets": [
            "18c9eb76567a4abea02d39433208690d",
            "fdeb8b21df0a4324b5ccfbd8143d441f",
            "51f379efde9245099d12d319e4b8ea7a",
            "53302ebb20044f8f8bd7ec7b7195d513",
            "b8bb0c2f265f44859b706875eb82c246",
            "f2bf662a8ebf41fc926505689d64a0bb",
            "6d984d1d05334698b234cc616629cd80",
            "19f73194caf34d23b7eb3a8f4315eb11",
            "f22e0e07b82f49c1916952eb9df67892",
            "45cf0550ca604ae596b7f283a076fe71",
            "8f92fbeda11d4e41bb30b10589a10d92"
          ]
        },
        "id": "bTL5kcBsYvVL",
        "outputId": "cbe5c89f-9895-4f5b-8973-658770302e87"
      },
      "execution_count": 78,
      "outputs": [
        {
          "output_type": "stream",
          "name": "stderr",
          "text": [
            "[I 2023-11-17 23:38:27,727] A new study created in memory with name: no-name-3fd278f9-0ca0-4e88-8834-02844470fe48\n"
          ]
        },
        {
          "output_type": "display_data",
          "data": {
            "text/plain": [
              "Processing:   0%|          | 0/100 [00:00<?, ? iterations/s]"
            ],
            "application/vnd.jupyter.widget-view+json": {
              "version_major": 2,
              "version_minor": 0,
              "model_id": "18c9eb76567a4abea02d39433208690d"
            }
          },
          "metadata": {}
        },
        {
          "output_type": "stream",
          "name": "stderr",
          "text": [
            "[I 2023-11-17 23:39:43,253] Trial 0 finished with value: 86689.46875 and parameters: {'lr': 0.00012245039015301848, 'step': 20, 'gamma': 0.8169825482536909, 'batch_size': 16}. Best is trial 0 with value: 86689.46875.\n"
          ]
        }
      ]
    },
    {
      "cell_type": "code",
      "source": [
        "print(study.best_trial)\n",
        "print(study.best_params)"
      ],
      "metadata": {
        "id": "XuKadpsIY6JN",
        "outputId": "bd2ec6ec-0000-4734-e5d6-c250b2921d72",
        "colab": {
          "base_uri": "https://localhost:8080/"
        }
      },
      "execution_count": 56,
      "outputs": [
        {
          "output_type": "stream",
          "name": "stdout",
          "text": [
            "FrozenTrial(number=0, state=TrialState.COMPLETE, values=[102597.94618055556], datetime_start=datetime.datetime(2023, 11, 17, 23, 26, 48, 348775), datetime_complete=datetime.datetime(2023, 11, 17, 23, 27, 41, 565928), params={'optimizer': 'Adam', 'lr': 0.0009698758437767134, 'step': 2, 'gamma': 0.7789673493233854, 'batch_size': 25}, user_attrs={}, system_attrs={}, intermediate_values={}, distributions={'optimizer': CategoricalDistribution(choices=('Adam', 'AdamW', 'RMSprop', 'SGD')), 'lr': FloatDistribution(high=0.001, log=True, low=1e-05, step=None), 'step': IntDistribution(high=20, log=True, low=1, step=1), 'gamma': FloatDistribution(high=1.0, log=True, low=0.1, step=None), 'batch_size': IntDistribution(high=32, log=True, low=16, step=1)}, trial_id=0, value=None)\n",
            "{'optimizer': 'Adam', 'lr': 0.0009698758437767134, 'step': 2, 'gamma': 0.7789673493233854, 'batch_size': 25}\n"
          ]
        }
      ]
    },
    {
      "cell_type": "code",
      "source": [],
      "metadata": {
        "id": "sKga0_QufYWJ"
      },
      "execution_count": null,
      "outputs": []
    }
  ]
}